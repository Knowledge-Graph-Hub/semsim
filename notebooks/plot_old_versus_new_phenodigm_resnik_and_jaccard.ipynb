{
 "cells": [
  {
   "cell_type": "code",
   "execution_count": 1,
   "metadata": {
    "id": "6gxb5C_USH_B"
   },
   "outputs": [],
   "source": [
    "import pandas as pd\n",
    "import matplotlib.pyplot as plt"
   ]
  },
  {
   "cell_type": "code",
   "execution_count": 2,
   "metadata": {
    "id": "jTF-gDH-UMb_"
   },
   "outputs": [],
   "source": [
    "# Files\n",
    "old_scores = 'https://kg-hub.berkeleybop.io/frozen_incoming_data/hp-mp-phenodigm-cache.txt.gz'\n",
    "new_scores = 'https://kg-hub.berkeleybop.io/kg-phenio/hp-mp_similarities.tar.gz'\n",
    "\n",
    "old_tar_file = 'hp-mp-phenodigm-cache.txt.gz'\n",
    "new_tar_file = 'hp-mp_similarities.tar.gz'\n",
    "\n",
    "old_sim_file = 'hp-mp-phenodigm-cache.txt'\n",
    "new_sim_file = 'KGPhenio_similarities'"
   ]
  },
  {
   "cell_type": "code",
   "execution_count": 3,
   "metadata": {
    "id": "WK1CujpFSq5I"
   },
   "outputs": [
    {
     "name": "stdout",
     "output_type": "stream",
     "text": [
      "--2022-10-14 13:35:31--  https://kg-hub.berkeleybop.io/frozen_incoming_data/hp-mp-phenodigm-cache.txt.gz\n",
      "Resolving kg-hub.berkeleybop.io (kg-hub.berkeleybop.io)... 108.138.128.121, 108.138.128.95, 108.138.128.23, ...\n",
      "Connecting to kg-hub.berkeleybop.io (kg-hub.berkeleybop.io)|108.138.128.121|:443... connected.\n",
      "HTTP request sent, awaiting response... 200 OK\n",
      "Length: 77055797 (73M) [application/x-gzip]\n",
      "Saving to: ‘hp-mp-phenodigm-cache.txt.gz’\n",
      "\n",
      "hp-mp-phenodigm-cac 100%[===================>]  73.49M  68.3MB/s    in 1.1s    \n",
      "\n",
      "2022-10-14 13:35:32 (68.3 MB/s) - ‘hp-mp-phenodigm-cache.txt.gz’ saved [77055797/77055797]\n",
      "\n",
      "--2022-10-14 13:35:38--  https://kg-hub.berkeleybop.io/kg-phenio/hp-mp_similarities.tar.gz\n",
      "Resolving kg-hub.berkeleybop.io (kg-hub.berkeleybop.io)... 108.138.128.121, 108.138.128.95, 108.138.128.23, ...\n",
      "Connecting to kg-hub.berkeleybop.io (kg-hub.berkeleybop.io)|108.138.128.121|:443... connected.\n",
      "HTTP request sent, awaiting response... 200 OK\n",
      "Length: 236293538 (225M) [application/gzip]\n",
      "Saving to: ‘hp-mp_similarities.tar.gz’\n",
      "\n",
      "hp-mp_similarities. 100%[===================>] 225.35M  74.6MB/s    in 3.0s    \n",
      "\n",
      "2022-10-14 13:35:41 (74.6 MB/s) - ‘hp-mp_similarities.tar.gz’ saved [236293538/236293538]\n",
      "\n",
      "KGPhenio_similarities\n"
     ]
    }
   ],
   "source": [
    "!wget {old_scores}\n",
    "!gunzip {old_tar_file}\n",
    "\n",
    "!wget {new_scores}\n",
    "!tar -xvzf {new_tar_file}"
   ]
  },
  {
   "cell_type": "code",
   "execution_count": 6,
   "metadata": {
    "colab": {
     "base_uri": "https://localhost:8080/"
    },
    "id": "EISuj4jUSwnH",
    "outputId": "e4728013-63d9-4234-c4ed-aeeac74837cc"
   },
   "outputs": [
    {
     "name": "stdout",
     "output_type": "stream",
     "text": [
      "KGPhenio_similarities\r\n",
      "README.md\r\n",
      "cosine-similarity-analysis.ipynb\r\n",
      "\u001b[34mdata\u001b[m\u001b[m\r\n",
      "\u001b[34mfigures\u001b[m\u001b[m\r\n",
      "hp-mp-phenodigm-cache.txt\r\n",
      "hp-mp_similarities.tar.gz\r\n",
      "pca-embedding-analysis.ipynb\r\n",
      "plot_old_versus_new_phenodigm_resnik_and_jaccard.ipynb\r\n"
     ]
    }
   ],
   "source": [
    "!ls"
   ]
  },
  {
   "cell_type": "code",
   "execution_count": 4,
   "metadata": {
    "colab": {
     "base_uri": "https://localhost:8080/",
     "height": 424
    },
    "id": "zu6BCrj5UPnv",
    "outputId": "77ceb655-5f68-44ad-dc34-6eee7c95b1b1"
   },
   "outputs": [
    {
     "data": {
      "text/html": [
       "<div>\n",
       "<style scoped>\n",
       "    .dataframe tbody tr th:only-of-type {\n",
       "        vertical-align: middle;\n",
       "    }\n",
       "\n",
       "    .dataframe tbody tr th {\n",
       "        vertical-align: top;\n",
       "    }\n",
       "\n",
       "    .dataframe thead th {\n",
       "        text-align: right;\n",
       "    }\n",
       "</style>\n",
       "<table border=\"1\" class=\"dataframe\">\n",
       "  <thead>\n",
       "    <tr style=\"text-align: right;\">\n",
       "      <th></th>\n",
       "      <th>source_old</th>\n",
       "      <th>destination_old</th>\n",
       "      <th>jaccard_old</th>\n",
       "      <th>resnik_score_old</th>\n",
       "      <th>subsumer_old</th>\n",
       "    </tr>\n",
       "  </thead>\n",
       "  <tbody>\n",
       "    <tr>\n",
       "      <th>0</th>\n",
       "      <td>HP:0000033</td>\n",
       "      <td>MP:0004014</td>\n",
       "      <td>0.470588</td>\n",
       "      <td>2.659134</td>\n",
       "      <td>MP_0002160;</td>\n",
       "    </tr>\n",
       "    <tr>\n",
       "      <th>1</th>\n",
       "      <td>HP:0000033</td>\n",
       "      <td>MP:0020998</td>\n",
       "      <td>0.434783</td>\n",
       "      <td>3.300796</td>\n",
       "      <td>MP_0009198;</td>\n",
       "    </tr>\n",
       "    <tr>\n",
       "      <th>2</th>\n",
       "      <td>HP:0000033</td>\n",
       "      <td>MP:0020957</td>\n",
       "      <td>0.363636</td>\n",
       "      <td>2.659134</td>\n",
       "      <td>MP_0002160;</td>\n",
       "    </tr>\n",
       "    <tr>\n",
       "      <th>3</th>\n",
       "      <td>HP:0000033</td>\n",
       "      <td>MP:0020869</td>\n",
       "      <td>0.212766</td>\n",
       "      <td>3.300796</td>\n",
       "      <td>MP_0009198;</td>\n",
       "    </tr>\n",
       "    <tr>\n",
       "      <th>4</th>\n",
       "      <td>HP:0000033</td>\n",
       "      <td>MP:0020824</td>\n",
       "      <td>0.500000</td>\n",
       "      <td>3.300796</td>\n",
       "      <td>MP_0009198;</td>\n",
       "    </tr>\n",
       "    <tr>\n",
       "      <th>...</th>\n",
       "      <td>...</td>\n",
       "      <td>...</td>\n",
       "      <td>...</td>\n",
       "      <td>...</td>\n",
       "      <td>...</td>\n",
       "    </tr>\n",
       "    <tr>\n",
       "      <th>13033730</th>\n",
       "      <td>HP:0008609</td>\n",
       "      <td>MP:0004176</td>\n",
       "      <td>0.243243</td>\n",
       "      <td>5.040392</td>\n",
       "      <td>HP_0031703;</td>\n",
       "    </tr>\n",
       "    <tr>\n",
       "      <th>13033731</th>\n",
       "      <td>HP:0008609</td>\n",
       "      <td>MP:0030154</td>\n",
       "      <td>0.928571</td>\n",
       "      <td>7.560589</td>\n",
       "      <td>MP_0000049;</td>\n",
       "    </tr>\n",
       "    <tr>\n",
       "      <th>13033732</th>\n",
       "      <td>HP:0008609</td>\n",
       "      <td>MP:0030155</td>\n",
       "      <td>0.866667</td>\n",
       "      <td>7.560589</td>\n",
       "      <td>MP_0000049;</td>\n",
       "    </tr>\n",
       "    <tr>\n",
       "      <th>13033733</th>\n",
       "      <td>HP:0008609</td>\n",
       "      <td>MP:0030156</td>\n",
       "      <td>0.650000</td>\n",
       "      <td>7.560589</td>\n",
       "      <td>MP_0000049;</td>\n",
       "    </tr>\n",
       "    <tr>\n",
       "      <th>13033734</th>\n",
       "      <td>HP:0008609</td>\n",
       "      <td>MP:0030158</td>\n",
       "      <td>0.433333</td>\n",
       "      <td>7.560589</td>\n",
       "      <td>MP_0000049;</td>\n",
       "    </tr>\n",
       "  </tbody>\n",
       "</table>\n",
       "<p>13033735 rows × 5 columns</p>\n",
       "</div>"
      ],
      "text/plain": [
       "          source_old destination_old  jaccard_old  resnik_score_old  \\\n",
       "0         HP:0000033      MP:0004014     0.470588          2.659134   \n",
       "1         HP:0000033      MP:0020998     0.434783          3.300796   \n",
       "2         HP:0000033      MP:0020957     0.363636          2.659134   \n",
       "3         HP:0000033      MP:0020869     0.212766          3.300796   \n",
       "4         HP:0000033      MP:0020824     0.500000          3.300796   \n",
       "...              ...             ...          ...               ...   \n",
       "13033730  HP:0008609      MP:0004176     0.243243          5.040392   \n",
       "13033731  HP:0008609      MP:0030154     0.928571          7.560589   \n",
       "13033732  HP:0008609      MP:0030155     0.866667          7.560589   \n",
       "13033733  HP:0008609      MP:0030156     0.650000          7.560589   \n",
       "13033734  HP:0008609      MP:0030158     0.433333          7.560589   \n",
       "\n",
       "         subsumer_old  \n",
       "0         MP_0002160;  \n",
       "1         MP_0009198;  \n",
       "2         MP_0002160;  \n",
       "3         MP_0009198;  \n",
       "4         MP_0009198;  \n",
       "...               ...  \n",
       "13033730  HP_0031703;  \n",
       "13033731  MP_0000049;  \n",
       "13033732  MP_0000049;  \n",
       "13033733  MP_0000049;  \n",
       "13033734  MP_0000049;  \n",
       "\n",
       "[13033735 rows x 5 columns]"
      ]
     },
     "execution_count": 4,
     "metadata": {},
     "output_type": "execute_result"
    }
   ],
   "source": [
    "old_sim_pd = pd.read_csv(old_sim_file, sep=\"\\t\", header=None)\n",
    "mapping = {old_sim_pd.columns[0]:'source_old',\n",
    "           old_sim_pd.columns[1]: 'destination_old', \n",
    "           old_sim_pd.columns[2]: 'jaccard_old',            \n",
    "           old_sim_pd.columns[3]: 'resnik_score_old',\n",
    "           old_sim_pd.columns[4]: 'subsumer_old',\n",
    "           }\n",
    "old_sim_pd = old_sim_pd.rename(columns=mapping)\n",
    "\n",
    "old_sim_pd['source_old'] = old_sim_pd['source_old'].str.replace('_',':')\n",
    "old_sim_pd['destination_old'] = old_sim_pd['destination_old'].str.replace('_',':')\n",
    "\n",
    "old_sim_pd"
   ]
  },
  {
   "cell_type": "code",
   "execution_count": 9,
   "metadata": {
    "colab": {
     "base_uri": "https://localhost:8080/",
     "height": 294
    },
    "id": "xeSa7hT8Wxwn",
    "outputId": "e9c245fd-4350-4382-f2c6-310159334fce"
   },
   "outputs": [
    {
     "data": {
      "text/plain": [
       "<AxesSubplot: ylabel='Frequency'>"
      ]
     },
     "execution_count": 9,
     "metadata": {},
     "output_type": "execute_result"
    },
    {
     "data": {
      "image/png": "[encoded data removed]",
      "text/plain": [
       "<Figure size 640x480 with 1 Axes>"
      ]
     },
     "metadata": {},
     "output_type": "display_data"
    }
   ],
   "source": [
    "old_sim_pd['jaccard_old'].plot(kind='hist', xlim=0)"
   ]
  },
  {
   "cell_type": "code",
   "execution_count": 10,
   "metadata": {
    "colab": {
     "base_uri": "https://localhost:8080/",
     "height": 294
    },
    "id": "2-HXLoHVW6WN",
    "outputId": "2a137acf-c8c9-49f5-a30c-a3c20d1822fa"
   },
   "outputs": [
    {
     "data": {
      "text/plain": [
       "<AxesSubplot: ylabel='Frequency'>"
      ]
     },
     "execution_count": 10,
     "metadata": {},
     "output_type": "execute_result"
    },
    {
     "data": {
      "image/png": "[encoded data removed]",
      "text/plain": [
       "<Figure size 640x480 with 1 Axes>"
      ]
     },
     "metadata": {},
     "output_type": "display_data"
    }
   ],
   "source": [
    "old_sim_pd['resnik_score_old'].plot(kind='hist', bins=15, xlim=0)"
   ]
  },
  {
   "cell_type": "code",
   "execution_count": 11,
   "metadata": {
    "colab": {
     "base_uri": "https://localhost:8080/",
     "height": 424
    },
    "id": "5WYrbeyiUrZX",
    "outputId": "5a4c03c4-14c1-4521-9f55-f31c44bb8e3e"
   },
   "outputs": [
    {
     "data": {
      "text/html": [
       "<div>\n",
       "<style scoped>\n",
       "    .dataframe tbody tr th:only-of-type {\n",
       "        vertical-align: middle;\n",
       "    }\n",
       "\n",
       "    .dataframe tbody tr th {\n",
       "        vertical-align: top;\n",
       "    }\n",
       "\n",
       "    .dataframe thead th {\n",
       "        text-align: right;\n",
       "    }\n",
       "</style>\n",
       "<table border=\"1\" class=\"dataframe\">\n",
       "  <thead>\n",
       "    <tr style=\"text-align: right;\">\n",
       "      <th></th>\n",
       "      <th>source</th>\n",
       "      <th>destination</th>\n",
       "      <th>resnik_score</th>\n",
       "      <th>jaccard</th>\n",
       "    </tr>\n",
       "  </thead>\n",
       "  <tbody>\n",
       "    <tr>\n",
       "      <th>0</th>\n",
       "      <td>MP:3000005</td>\n",
       "      <td>MP:3000005</td>\n",
       "      <td>14.526168</td>\n",
       "      <td>1.000000</td>\n",
       "    </tr>\n",
       "    <tr>\n",
       "      <th>1</th>\n",
       "      <td>HP:0030350</td>\n",
       "      <td>HP:0030350</td>\n",
       "      <td>14.526168</td>\n",
       "      <td>1.000000</td>\n",
       "    </tr>\n",
       "    <tr>\n",
       "      <th>2</th>\n",
       "      <td>MP:0008925</td>\n",
       "      <td>MP:0008925</td>\n",
       "      <td>14.526168</td>\n",
       "      <td>1.000000</td>\n",
       "    </tr>\n",
       "    <tr>\n",
       "      <th>3</th>\n",
       "      <td>MP:0008926</td>\n",
       "      <td>MP:0008926</td>\n",
       "      <td>14.526168</td>\n",
       "      <td>1.000000</td>\n",
       "    </tr>\n",
       "    <tr>\n",
       "      <th>4</th>\n",
       "      <td>MP:0008926</td>\n",
       "      <td>MP:0013185</td>\n",
       "      <td>14.526168</td>\n",
       "      <td>0.857143</td>\n",
       "    </tr>\n",
       "    <tr>\n",
       "      <th>...</th>\n",
       "      <td>...</td>\n",
       "      <td>...</td>\n",
       "      <td>...</td>\n",
       "      <td>...</td>\n",
       "    </tr>\n",
       "    <tr>\n",
       "      <th>51383633</th>\n",
       "      <td>HP:0001802</td>\n",
       "      <td>HP:0200054</td>\n",
       "      <td>5.041991</td>\n",
       "      <td>0.214286</td>\n",
       "    </tr>\n",
       "    <tr>\n",
       "      <th>51383634</th>\n",
       "      <td>HP:0100142</td>\n",
       "      <td>MP:0009001</td>\n",
       "      <td>5.041991</td>\n",
       "      <td>0.117647</td>\n",
       "    </tr>\n",
       "    <tr>\n",
       "      <th>51383635</th>\n",
       "      <td>HP:0010388</td>\n",
       "      <td>MP:0009001</td>\n",
       "      <td>5.041991</td>\n",
       "      <td>0.133333</td>\n",
       "    </tr>\n",
       "    <tr>\n",
       "      <th>51383636</th>\n",
       "      <td>HP:0010323</td>\n",
       "      <td>HP:0001802</td>\n",
       "      <td>5.041991</td>\n",
       "      <td>0.214286</td>\n",
       "    </tr>\n",
       "    <tr>\n",
       "      <th>51383637</th>\n",
       "      <td>HP:0010374</td>\n",
       "      <td>MP:0009001</td>\n",
       "      <td>5.041991</td>\n",
       "      <td>0.214286</td>\n",
       "    </tr>\n",
       "  </tbody>\n",
       "</table>\n",
       "<p>51383638 rows × 4 columns</p>\n",
       "</div>"
      ],
      "text/plain": [
       "              source destination  resnik_score   jaccard\n",
       "0         MP:3000005  MP:3000005     14.526168  1.000000\n",
       "1         HP:0030350  HP:0030350     14.526168  1.000000\n",
       "2         MP:0008925  MP:0008925     14.526168  1.000000\n",
       "3         MP:0008926  MP:0008926     14.526168  1.000000\n",
       "4         MP:0008926  MP:0013185     14.526168  0.857143\n",
       "...              ...         ...           ...       ...\n",
       "51383633  HP:0001802  HP:0200054      5.041991  0.214286\n",
       "51383634  HP:0100142  MP:0009001      5.041991  0.117647\n",
       "51383635  HP:0010388  MP:0009001      5.041991  0.133333\n",
       "51383636  HP:0010323  HP:0001802      5.041991  0.214286\n",
       "51383637  HP:0010374  MP:0009001      5.041991  0.214286\n",
       "\n",
       "[51383638 rows x 4 columns]"
      ]
     },
     "execution_count": 11,
     "metadata": {},
     "output_type": "execute_result"
    }
   ],
   "source": [
    "new_sim_pd = pd.read_csv(new_sim_file, sep=\",\")\n",
    "new_sim_pd"
   ]
  },
  {
   "cell_type": "code",
   "execution_count": 13,
   "metadata": {
    "colab": {
     "base_uri": "https://localhost:8080/",
     "height": 294
    },
    "id": "D1goCywhXLnE",
    "outputId": "aa54b8a3-e60e-414b-ce73-bed93208ca46"
   },
   "outputs": [
    {
     "data": {
      "text/plain": [
       "<AxesSubplot: ylabel='Frequency'>"
      ]
     },
     "execution_count": 13,
     "metadata": {},
     "output_type": "execute_result"
    },
    {
     "data": {
      "image/png": "[encoded data removed]",
      "text/plain": [
       "<Figure size 640x480 with 1 Axes>"
      ]
     },
     "metadata": {},
     "output_type": "display_data"
    }
   ],
   "source": [
    "new_sim_pd['jaccard'].plot(kind='hist', xlim=0)"
   ]
  },
  {
   "cell_type": "code",
   "execution_count": 12,
   "metadata": {
    "colab": {
     "base_uri": "https://localhost:8080/",
     "height": 294
    },
    "id": "ToXYHHHNXUyn",
    "outputId": "81d198d3-5263-4a5b-dfc8-af8d5fd29b69"
   },
   "outputs": [
    {
     "data": {
      "text/plain": [
       "<AxesSubplot: ylabel='Frequency'>"
      ]
     },
     "execution_count": 12,
     "metadata": {},
     "output_type": "execute_result"
    },
    {
     "data": {
      "image/png": "[encoded data removed]",
      "text/plain": [
       "<Figure size 640x480 with 1 Axes>"
      ]
     },
     "metadata": {},
     "output_type": "display_data"
    }
   ],
   "source": [
    "new_sim_pd['resnik_score'].plot(kind='hist', bins=15, xlim=0)"
   ]
  },
  {
   "cell_type": "code",
   "execution_count": 15,
   "metadata": {
    "id": "KZWylyZ-XvBs",
    "scrolled": true
   },
   "outputs": [
    {
     "data": {
      "text/html": [
       "<div>\n",
       "<style scoped>\n",
       "    .dataframe tbody tr th:only-of-type {\n",
       "        vertical-align: middle;\n",
       "    }\n",
       "\n",
       "    .dataframe tbody tr th {\n",
       "        vertical-align: top;\n",
       "    }\n",
       "\n",
       "    .dataframe thead th {\n",
       "        text-align: right;\n",
       "    }\n",
       "</style>\n",
       "<table border=\"1\" class=\"dataframe\">\n",
       "  <thead>\n",
       "    <tr style=\"text-align: right;\">\n",
       "      <th></th>\n",
       "      <th>source_old</th>\n",
       "      <th>destination_old</th>\n",
       "      <th>jaccard_old</th>\n",
       "      <th>resnik_score_old</th>\n",
       "      <th>subsumer_old</th>\n",
       "      <th>source</th>\n",
       "      <th>destination</th>\n",
       "      <th>resnik_score</th>\n",
       "      <th>jaccard</th>\n",
       "    </tr>\n",
       "  </thead>\n",
       "  <tbody>\n",
       "    <tr>\n",
       "      <th>0</th>\n",
       "      <td>HP:0000033</td>\n",
       "      <td>MP:0004014</td>\n",
       "      <td>0.470588</td>\n",
       "      <td>2.659134</td>\n",
       "      <td>MP_0002160;</td>\n",
       "      <td>HP:0000033</td>\n",
       "      <td>MP:0004014</td>\n",
       "      <td>5.358735</td>\n",
       "      <td>0.153846</td>\n",
       "    </tr>\n",
       "    <tr>\n",
       "      <th>1</th>\n",
       "      <td>HP:0000033</td>\n",
       "      <td>MP:0020998</td>\n",
       "      <td>0.434783</td>\n",
       "      <td>3.300796</td>\n",
       "      <td>MP_0009198;</td>\n",
       "      <td>HP:0000033</td>\n",
       "      <td>MP:0020998</td>\n",
       "      <td>7.041238</td>\n",
       "      <td>0.166667</td>\n",
       "    </tr>\n",
       "    <tr>\n",
       "      <th>2</th>\n",
       "      <td>HP:0000033</td>\n",
       "      <td>MP:0020957</td>\n",
       "      <td>0.363636</td>\n",
       "      <td>2.659134</td>\n",
       "      <td>MP_0002160;</td>\n",
       "      <td>HP:0000033</td>\n",
       "      <td>MP:0020957</td>\n",
       "      <td>7.038994</td>\n",
       "      <td>0.153846</td>\n",
       "    </tr>\n",
       "    <tr>\n",
       "      <th>3</th>\n",
       "      <td>HP:0000033</td>\n",
       "      <td>MP:0020824</td>\n",
       "      <td>0.500000</td>\n",
       "      <td>3.300796</td>\n",
       "      <td>MP_0009198;</td>\n",
       "      <td>HP:0000033</td>\n",
       "      <td>MP:0020824</td>\n",
       "      <td>6.481542</td>\n",
       "      <td>0.363636</td>\n",
       "    </tr>\n",
       "    <tr>\n",
       "      <th>4</th>\n",
       "      <td>HP:0000033</td>\n",
       "      <td>MP:0002771</td>\n",
       "      <td>0.400000</td>\n",
       "      <td>3.300796</td>\n",
       "      <td>MP_0009198;</td>\n",
       "      <td>HP:0000033</td>\n",
       "      <td>MP:0002771</td>\n",
       "      <td>7.041238</td>\n",
       "      <td>0.153846</td>\n",
       "    </tr>\n",
       "    <tr>\n",
       "      <th>...</th>\n",
       "      <td>...</td>\n",
       "      <td>...</td>\n",
       "      <td>...</td>\n",
       "      <td>...</td>\n",
       "      <td>...</td>\n",
       "      <td>...</td>\n",
       "      <td>...</td>\n",
       "      <td>...</td>\n",
       "      <td>...</td>\n",
       "    </tr>\n",
       "    <tr>\n",
       "      <th>2361470</th>\n",
       "      <td>HP:0008609</td>\n",
       "      <td>MP:0004204</td>\n",
       "      <td>0.500000</td>\n",
       "      <td>7.560589</td>\n",
       "      <td>MP_0000049;</td>\n",
       "      <td>MP:0004204</td>\n",
       "      <td>HP:0008609</td>\n",
       "      <td>10.195435</td>\n",
       "      <td>0.230769</td>\n",
       "    </tr>\n",
       "    <tr>\n",
       "      <th>2361471</th>\n",
       "      <td>HP:0008609</td>\n",
       "      <td>MP:0030154</td>\n",
       "      <td>0.928571</td>\n",
       "      <td>7.560589</td>\n",
       "      <td>MP_0000049;</td>\n",
       "      <td>MP:0030154</td>\n",
       "      <td>HP:0008609</td>\n",
       "      <td>10.195435</td>\n",
       "      <td>0.272727</td>\n",
       "    </tr>\n",
       "    <tr>\n",
       "      <th>2361472</th>\n",
       "      <td>HP:0008609</td>\n",
       "      <td>MP:0030155</td>\n",
       "      <td>0.866667</td>\n",
       "      <td>7.560589</td>\n",
       "      <td>MP_0000049;</td>\n",
       "      <td>MP:0030155</td>\n",
       "      <td>HP:0008609</td>\n",
       "      <td>10.195435</td>\n",
       "      <td>0.250000</td>\n",
       "    </tr>\n",
       "    <tr>\n",
       "      <th>2361473</th>\n",
       "      <td>HP:0008609</td>\n",
       "      <td>MP:0030156</td>\n",
       "      <td>0.650000</td>\n",
       "      <td>7.560589</td>\n",
       "      <td>MP_0000049;</td>\n",
       "      <td>MP:0030156</td>\n",
       "      <td>HP:0008609</td>\n",
       "      <td>10.195435</td>\n",
       "      <td>0.272727</td>\n",
       "    </tr>\n",
       "    <tr>\n",
       "      <th>2361474</th>\n",
       "      <td>HP:0008609</td>\n",
       "      <td>MP:0030158</td>\n",
       "      <td>0.433333</td>\n",
       "      <td>7.560589</td>\n",
       "      <td>MP_0000049;</td>\n",
       "      <td>MP:0030158</td>\n",
       "      <td>HP:0008609</td>\n",
       "      <td>8.446235</td>\n",
       "      <td>0.230769</td>\n",
       "    </tr>\n",
       "  </tbody>\n",
       "</table>\n",
       "<p>5833600 rows × 9 columns</p>\n",
       "</div>"
      ],
      "text/plain": [
       "         source_old destination_old  jaccard_old  resnik_score_old  \\\n",
       "0        HP:0000033      MP:0004014     0.470588          2.659134   \n",
       "1        HP:0000033      MP:0020998     0.434783          3.300796   \n",
       "2        HP:0000033      MP:0020957     0.363636          2.659134   \n",
       "3        HP:0000033      MP:0020824     0.500000          3.300796   \n",
       "4        HP:0000033      MP:0002771     0.400000          3.300796   \n",
       "...             ...             ...          ...               ...   \n",
       "2361470  HP:0008609      MP:0004204     0.500000          7.560589   \n",
       "2361471  HP:0008609      MP:0030154     0.928571          7.560589   \n",
       "2361472  HP:0008609      MP:0030155     0.866667          7.560589   \n",
       "2361473  HP:0008609      MP:0030156     0.650000          7.560589   \n",
       "2361474  HP:0008609      MP:0030158     0.433333          7.560589   \n",
       "\n",
       "        subsumer_old      source destination  resnik_score   jaccard  \n",
       "0        MP_0002160;  HP:0000033  MP:0004014      5.358735  0.153846  \n",
       "1        MP_0009198;  HP:0000033  MP:0020998      7.041238  0.166667  \n",
       "2        MP_0002160;  HP:0000033  MP:0020957      7.038994  0.153846  \n",
       "3        MP_0009198;  HP:0000033  MP:0020824      6.481542  0.363636  \n",
       "4        MP_0009198;  HP:0000033  MP:0002771      7.041238  0.153846  \n",
       "...              ...         ...         ...           ...       ...  \n",
       "2361470  MP_0000049;  MP:0004204  HP:0008609     10.195435  0.230769  \n",
       "2361471  MP_0000049;  MP:0030154  HP:0008609     10.195435  0.272727  \n",
       "2361472  MP_0000049;  MP:0030155  HP:0008609     10.195435  0.250000  \n",
       "2361473  MP_0000049;  MP:0030156  HP:0008609     10.195435  0.272727  \n",
       "2361474  MP_0000049;  MP:0030158  HP:0008609      8.446235  0.230769  \n",
       "\n",
       "[5833600 rows x 9 columns]"
      ]
     },
     "execution_count": 15,
     "metadata": {},
     "output_type": "execute_result"
    }
   ],
   "source": [
    "intersected_scores1 = old_sim_pd.merge(new_sim_pd, how='inner',\n",
    "                                      left_on=['source_old', 'destination_old'], right_on=['source', 'destination'])\n",
    "intersected_scores2 = old_sim_pd.merge(new_sim_pd, how='inner',\n",
    "                                      left_on=['source_old', 'destination_old'], right_on=['destination', 'source'])\n",
    "intersected_scores = pd.concat([intersected_scores1, intersected_scores2])\n",
    "intersected_scores"
   ]
  },
  {
   "cell_type": "code",
   "execution_count": 20,
   "metadata": {},
   "outputs": [
    {
     "data": {
      "image/png": "[encoded data removed]",
      "text/plain": [
       "<Figure size 432x288 with 1 Axes>"
      ]
     },
     "metadata": {
      "needs_background": "light"
     },
     "output_type": "display_data"
    }
   ],
   "source": [
    "ax1 = intersected_scores.plot.scatter(x='resnik_score',\n",
    "                                      y='resnik_score_old',\n",
    "                                      c='DarkBlue',\n",
    "                                      s=0.01\n",
    "                                     )"
   ]
  },
  {
   "cell_type": "code",
   "execution_count": 21,
   "metadata": {},
   "outputs": [
    {
     "data": {
      "image/png": "[encoded data removed]",
      "text/plain": [
       "<Figure size 432x288 with 1 Axes>"
      ]
     },
     "metadata": {
      "needs_background": "light"
     },
     "output_type": "display_data"
    }
   ],
   "source": [
    "ax1 = intersected_scores.plot.scatter(x='jaccard',\n",
    "                                      y='jaccard_old',\n",
    "                                      c='DarkBlue',\n",
    "                                      s=0.01\n",
    "                                     )"
   ]
  },
  {
   "cell_type": "markdown",
   "metadata": {},
   "source": [
    "### Which pairs have high scores in the old set and low scores in the new set?"
   ]
  },
  {
   "cell_type": "code",
   "execution_count": 18,
   "metadata": {},
   "outputs": [
    {
     "data": {
      "text/html": [
       "<div>\n",
       "<style scoped>\n",
       "    .dataframe tbody tr th:only-of-type {\n",
       "        vertical-align: middle;\n",
       "    }\n",
       "\n",
       "    .dataframe tbody tr th {\n",
       "        vertical-align: top;\n",
       "    }\n",
       "\n",
       "    .dataframe thead th {\n",
       "        text-align: right;\n",
       "    }\n",
       "</style>\n",
       "<table border=\"1\" class=\"dataframe\">\n",
       "  <thead>\n",
       "    <tr style=\"text-align: right;\">\n",
       "      <th></th>\n",
       "      <th>source_old</th>\n",
       "      <th>destination_old</th>\n",
       "      <th>jaccard_old</th>\n",
       "      <th>resnik_score_old</th>\n",
       "      <th>subsumer_old</th>\n",
       "      <th>source</th>\n",
       "      <th>destination</th>\n",
       "      <th>resnik_score</th>\n",
       "      <th>jaccard</th>\n",
       "      <th>resnik_diff</th>\n",
       "    </tr>\n",
       "  </thead>\n",
       "  <tbody>\n",
       "    <tr>\n",
       "      <th>962688</th>\n",
       "      <td>HP:0002607</td>\n",
       "      <td>MP:0003281</td>\n",
       "      <td>1.000000</td>\n",
       "      <td>14.359005</td>\n",
       "      <td>MP_0003281;</td>\n",
       "      <td>HP:0002607</td>\n",
       "      <td>MP:0003281</td>\n",
       "      <td>5.159422</td>\n",
       "      <td>0.300000</td>\n",
       "      <td>9.199583</td>\n",
       "    </tr>\n",
       "    <tr>\n",
       "      <th>632818</th>\n",
       "      <td>HP:0040183</td>\n",
       "      <td>MP:0003281</td>\n",
       "      <td>0.944444</td>\n",
       "      <td>14.359005</td>\n",
       "      <td>MP_0003281;</td>\n",
       "      <td>HP:0040183</td>\n",
       "      <td>MP:0003281</td>\n",
       "      <td>5.159422</td>\n",
       "      <td>0.272727</td>\n",
       "      <td>9.199583</td>\n",
       "    </tr>\n",
       "    <tr>\n",
       "      <th>1327215</th>\n",
       "      <td>HP:0012700</td>\n",
       "      <td>MP:0003281</td>\n",
       "      <td>0.529412</td>\n",
       "      <td>14.351005</td>\n",
       "      <td>HP_0012700;</td>\n",
       "      <td>HP:0012700</td>\n",
       "      <td>MP:0003281</td>\n",
       "      <td>5.159422</td>\n",
       "      <td>0.333333</td>\n",
       "      <td>9.191583</td>\n",
       "    </tr>\n",
       "    <tr>\n",
       "      <th>1326917</th>\n",
       "      <td>HP:0012701</td>\n",
       "      <td>MP:0003281</td>\n",
       "      <td>0.500000</td>\n",
       "      <td>14.351005</td>\n",
       "      <td>HP_0012700;</td>\n",
       "      <td>HP:0012701</td>\n",
       "      <td>MP:0003281</td>\n",
       "      <td>5.159422</td>\n",
       "      <td>0.300000</td>\n",
       "      <td>9.191583</td>\n",
       "    </tr>\n",
       "    <tr>\n",
       "      <th>878712</th>\n",
       "      <td>HP:0012700</td>\n",
       "      <td>MP:0003281</td>\n",
       "      <td>0.529412</td>\n",
       "      <td>14.351005</td>\n",
       "      <td>HP_0012700;</td>\n",
       "      <td>MP:0003281</td>\n",
       "      <td>HP:0012700</td>\n",
       "      <td>5.159422</td>\n",
       "      <td>0.333333</td>\n",
       "      <td>9.191583</td>\n",
       "    </tr>\n",
       "    <tr>\n",
       "      <th>...</th>\n",
       "      <td>...</td>\n",
       "      <td>...</td>\n",
       "      <td>...</td>\n",
       "      <td>...</td>\n",
       "      <td>...</td>\n",
       "      <td>...</td>\n",
       "      <td>...</td>\n",
       "      <td>...</td>\n",
       "      <td>...</td>\n",
       "      <td>...</td>\n",
       "    </tr>\n",
       "    <tr>\n",
       "      <th>1071039</th>\n",
       "      <td>HP:0410188</td>\n",
       "      <td>MP:0005562</td>\n",
       "      <td>0.282051</td>\n",
       "      <td>2.508834</td>\n",
       "      <td>MP_0008469;</td>\n",
       "      <td>HP:0410188</td>\n",
       "      <td>MP:0005562</td>\n",
       "      <td>13.139874</td>\n",
       "      <td>0.300000</td>\n",
       "      <td>-10.631039</td>\n",
       "    </tr>\n",
       "    <tr>\n",
       "      <th>728809</th>\n",
       "      <td>HP:0410198</td>\n",
       "      <td>MP:0005562</td>\n",
       "      <td>0.321429</td>\n",
       "      <td>2.508834</td>\n",
       "      <td>MP_0008469;</td>\n",
       "      <td>MP:0005562</td>\n",
       "      <td>HP:0410198</td>\n",
       "      <td>13.139874</td>\n",
       "      <td>0.300000</td>\n",
       "      <td>-10.631039</td>\n",
       "    </tr>\n",
       "    <tr>\n",
       "      <th>1069220</th>\n",
       "      <td>HP:0410198</td>\n",
       "      <td>MP:0005562</td>\n",
       "      <td>0.321429</td>\n",
       "      <td>2.508834</td>\n",
       "      <td>MP_0008469;</td>\n",
       "      <td>HP:0410198</td>\n",
       "      <td>MP:0005562</td>\n",
       "      <td>13.139874</td>\n",
       "      <td>0.300000</td>\n",
       "      <td>-10.631039</td>\n",
       "    </tr>\n",
       "    <tr>\n",
       "      <th>2020913</th>\n",
       "      <td>HP:0002553</td>\n",
       "      <td>MP:0003761</td>\n",
       "      <td>0.222222</td>\n",
       "      <td>2.512377</td>\n",
       "      <td>HP_0000271;</td>\n",
       "      <td>HP:0002553</td>\n",
       "      <td>MP:0003761</td>\n",
       "      <td>13.833021</td>\n",
       "      <td>0.153846</td>\n",
       "      <td>-11.320644</td>\n",
       "    </tr>\n",
       "    <tr>\n",
       "      <th>1361777</th>\n",
       "      <td>HP:0002553</td>\n",
       "      <td>MP:0003761</td>\n",
       "      <td>0.222222</td>\n",
       "      <td>2.512377</td>\n",
       "      <td>HP_0000271;</td>\n",
       "      <td>MP:0003761</td>\n",
       "      <td>HP:0002553</td>\n",
       "      <td>13.833021</td>\n",
       "      <td>0.153846</td>\n",
       "      <td>-11.320644</td>\n",
       "    </tr>\n",
       "  </tbody>\n",
       "</table>\n",
       "<p>5833600 rows × 10 columns</p>\n",
       "</div>"
      ],
      "text/plain": [
       "         source_old destination_old  jaccard_old  resnik_score_old  \\\n",
       "962688   HP:0002607      MP:0003281     1.000000         14.359005   \n",
       "632818   HP:0040183      MP:0003281     0.944444         14.359005   \n",
       "1327215  HP:0012700      MP:0003281     0.529412         14.351005   \n",
       "1326917  HP:0012701      MP:0003281     0.500000         14.351005   \n",
       "878712   HP:0012700      MP:0003281     0.529412         14.351005   \n",
       "...             ...             ...          ...               ...   \n",
       "1071039  HP:0410188      MP:0005562     0.282051          2.508834   \n",
       "728809   HP:0410198      MP:0005562     0.321429          2.508834   \n",
       "1069220  HP:0410198      MP:0005562     0.321429          2.508834   \n",
       "2020913  HP:0002553      MP:0003761     0.222222          2.512377   \n",
       "1361777  HP:0002553      MP:0003761     0.222222          2.512377   \n",
       "\n",
       "        subsumer_old      source destination  resnik_score   jaccard  \\\n",
       "962688   MP_0003281;  HP:0002607  MP:0003281      5.159422  0.300000   \n",
       "632818   MP_0003281;  HP:0040183  MP:0003281      5.159422  0.272727   \n",
       "1327215  HP_0012700;  HP:0012700  MP:0003281      5.159422  0.333333   \n",
       "1326917  HP_0012700;  HP:0012701  MP:0003281      5.159422  0.300000   \n",
       "878712   HP_0012700;  MP:0003281  HP:0012700      5.159422  0.333333   \n",
       "...              ...         ...         ...           ...       ...   \n",
       "1071039  MP_0008469;  HP:0410188  MP:0005562     13.139874  0.300000   \n",
       "728809   MP_0008469;  MP:0005562  HP:0410198     13.139874  0.300000   \n",
       "1069220  MP_0008469;  HP:0410198  MP:0005562     13.139874  0.300000   \n",
       "2020913  HP_0000271;  HP:0002553  MP:0003761     13.833021  0.153846   \n",
       "1361777  HP_0000271;  MP:0003761  HP:0002553     13.833021  0.153846   \n",
       "\n",
       "         resnik_diff  \n",
       "962688      9.199583  \n",
       "632818      9.199583  \n",
       "1327215     9.191583  \n",
       "1326917     9.191583  \n",
       "878712      9.191583  \n",
       "...              ...  \n",
       "1071039   -10.631039  \n",
       "728809    -10.631039  \n",
       "1069220   -10.631039  \n",
       "2020913   -11.320644  \n",
       "1361777   -11.320644  \n",
       "\n",
       "[5833600 rows x 10 columns]"
      ]
     },
     "execution_count": 18,
     "metadata": {},
     "output_type": "execute_result"
    }
   ],
   "source": [
    "intersected_scores['resnik_diff'] = intersected_scores['resnik_score_old'] - intersected_scores['resnik_score']\n",
    "intersected_scores.sort_values(by='resnik_diff', ascending=False, inplace=True)\n",
    "intersected_scores"
   ]
  },
  {
   "cell_type": "markdown",
   "metadata": {},
   "source": [
    "The top 5 differences in Resnik score are for pairs involving MP:0003281 (fecal incontinence). The top HP hit in the old scores is for HP:0002607 (bowel incontinence) and even includes the synonym \"Fecal incontinence\", so that appears to be a very good match. The low score in the new set may reflect how the ancestors of these terms are otherwise dissimilar: \n",
    "In HP, it looks like\n",
    "```\n",
    "All\n",
    " Phenotypic abnormality\n",
    "  Abnormality of the digestive system\n",
    "   Abnormality of digestive system physiology\n",
    "    Abnormal large intestine physiology\n",
    "     Bowel incontinence\n",
    "  Constitutional symptom\n",
    "   Impairment of activities of daily living\n",
    "    Impaired continence\n",
    "     Bowel incontinence\n",
    "```\n",
    "While in MP, we have\n",
    "```\n",
    "mammalian phenotype\n",
    " digestive/alimentary phenotype\n",
    "  abnormal digestive system physiology\n",
    "   abnormal defecation\n",
    "    fecal incontinence\n",
    "```\n",
    "\n",
    "The other HP terms in this top 5 are HP:0040183 (Encopresis; a child of HP:0002607), HP:0012700 (Abnormal large intestine physiology; see above), HP:0012701 (Bowel urgency; a child of HP:0012700), and HP:0012700 (that's a duplicate - shouldn't be there."
   ]
  },
  {
   "cell_type": "code",
   "execution_count": null,
   "metadata": {},
   "outputs": [],
   "source": []
  }
 ],
 "metadata": {
  "colab": {
   "provenance": []
  },
  "kernelspec": {
   "display_name": "Python 3 (ipykernel)",
   "language": "python",
   "name": "python3"
  },
  "language_info": {
   "codemirror_mode": {
    "name": "ipython",
    "version": 3
   },
   "file_extension": ".py",
   "mimetype": "text/x-python",
   "name": "python",
   "nbconvert_exporter": "python",
   "pygments_lexer": "ipython3",
   "version": "3.9.5"
  }
 },
 "nbformat": 4,
 "nbformat_minor": 1
}
